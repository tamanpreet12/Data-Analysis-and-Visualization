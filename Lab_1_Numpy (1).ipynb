{
  "cells": [
    {
      "cell_type": "markdown",
      "metadata": {
        "id": "LpFqqMg9uZ9m"
      },
      "source": [
        "# **Numpy**\n",
        "-----\n",
        "Numpy is the core library for scientific computing in Python. It provides a high-performance multidimensional array object, and tools for working with these arrays.\n",
        "## Arrays\n",
        "-----\n",
        "1. A numpy array is a grid of values, all of the same type, and is indexed by a tuple of nonnegative integers.\n",
        "2. The number of dimensions is the rank of the array;\n",
        "3. the shape of an array is a tuple of integers giving the size of the array along each dimension.\n",
        "\n",
        "4. We can initialize numpy arrays from nested Python lists, and access elements using square brackets:"
      ]
    },
    {
      "cell_type": "markdown",
      "metadata": {
        "id": "iX7hHpuSuZ9s"
      },
      "source": [
        "# NumPy Basics\n",
        "\n",
        "| Operator\t| Description |\n",
        "|:-----------|:-------------|\n",
        "| np.array([1,2,3])\t| 1d array|\n",
        "| np.array([(1,2,3),(4,5,6)])\t| 2d array|\n",
        "| np.arange(start,stop,step)\t| range array|\n",
        "\n",
        "\n",
        "![alt text](https://www.w3resource.com/w3r_images/python-numpy-arrays-image.png)\n",
        "\n",
        "# Placeholders\n",
        "\n",
        "Operator\t| Description\n",
        ":-----------|:-------------\n",
        "np.linspace(0,2,9)\t| Add evenly spaced values btw interval to array of length\n",
        "np.zeros((1,2))\t| Create and array filled with zeros\n",
        "np.ones((1,2))\t| Creates an array filled with ones\n",
        "np.random.random((5,5))\t| Creates random array\n",
        "np.empty((2,2))\t| Creates an empty array\n",
        "\n",
        "\n",
        "# Array\n",
        "\n",
        "Syntax\t| Description\n",
        ":-----------|:-------------\n",
        "array.shape\t| Dimensions (Rows,Columns)\n",
        "len(array)\t| Length of Array\n",
        "array.ndim\t| Number of Array Dimensions\n",
        "array.dtype\t| Data Type\n",
        "array.astype(type)\t| Converts to Data Type\n",
        "type(array)\t| Type of Array\n",
        "\n",
        "\n",
        "# Copying/Sorting\n",
        "\n",
        "Operators\t| Description\n",
        ":-----------|:-------------\n",
        "np.copy(array)\t| Creates copy of array\n",
        "other = array.copy()\t| Creates deep copy of array\n",
        "array.sort()\t| Sorts an array\n",
        "array.sort(axis=0)\t| Sorts axis of array\n",
        "\n",
        "\n",
        "# Array Manipulation\n",
        "\n",
        "# Adding or Removing Elements\n",
        "\n",
        "Operator\t| Description\n",
        ":-----------|:-------------\n",
        "np.append(a,b)\t| Append items to array\n",
        "np.insert(array, 1, 2, axis)\t| Insert items into array at axis 0 or 1\n",
        "np.resize((2,4))\t| Resize array to shape(2,4)\n",
        "np.delete(array,1,axis)\t| Deletes items from array\n",
        "\n",
        "\n",
        "# Combining Arrays\n",
        "\n",
        "Operator\t| Description\n",
        ":-----------|:-------------\n",
        "np.concatenate((a,b),axis=0)\t| Concatenates 2 arrays, adds to end\n",
        "np.vstack((a,b))\t| Stack array row-wise\n",
        "np.hstack((a,b))\t| Stack array column wise\n",
        "\n",
        "# Splitting Arrays\n",
        "\n",
        "Operator\t| Description\n",
        ":-----------|:-------------\n",
        "numpy.split()\t| Split an array into multiple sub-arrays.\n",
        "np.array_split(array, 3)\t| Split an array in sub-arrays of (nearly) identical size\n",
        "numpy.hsplit(array, 3)\t| Split the array horizontally at 3rd index\n",
        "\n",
        "# More\n",
        "\n",
        "Operator\t| Description\n",
        ":-----------|:-------------\n",
        "other = ndarray.flatten()\t| Flattens a 2d array to 1d\n",
        "array = np.transpose(other)\n",
        "array.T\tTranspose array\n",
        "inverse = np.linalg.inv(matrix)\t| Inverse of a given matrix\n",
        "Mathematics\n",
        "\n",
        "# Operations\n",
        "\n",
        "Operator\t| Description\n",
        ":-----------|:-------------\n",
        "np.add(x,y)\n",
        "x + y\t| Addition\n",
        "np.substract(x,y)\n",
        "x - y\t| Subtraction\n",
        "np.divide(x,y)\n",
        "x / y\t| Division\n",
        "np.multiply(x,y)\n",
        "x @ y\t| Multiplication\n",
        "np.sqrt(x)\t| Square Root\n",
        "np.sin(x)\t| Element-wise sine\n",
        "np.cos(x)\t| Element-wise cosine\n",
        "np.log(x)\t| Element-wise natural log\n",
        "np.dot(x,y)\t| Dot product\n",
        "np.roots([1,0,-4])\t| Roots of a given polynomial coefficients\n",
        "\n",
        "# Comparison\n",
        "\n",
        "Operator\t| Description\n",
        ":-----------|:-------------\n",
        "==\t| Equal\n",
        "!=\t| Not equal\n",
        "<\t| Smaller than\n",
        ">\t| Greater than\n",
        "<=\t| Smaller than or equal\n",
        ">=\t| Greater than or equal\n",
        "np.array_equal(x,y)\t| Array-wise comparison\n",
        "\n",
        "# Basic Statistics\n",
        "\n",
        "Operator\t| Description\n",
        ":-----------|:-------------\n",
        "np.mean(array)\t| Mean\n",
        "np.median(array)\t| Median\n",
        "array.corrcoef()\t| Correlation Coefficient\n",
        "np.std(array)\t| Standard Deviation\n",
        "\n",
        "# More\n",
        "\n",
        "Operator\t| Description\n",
        ":-----------|:-------------\n",
        "array.sum()\t| Array-wise sum\n",
        "array.min()\t| Array-wise minimum value\n",
        "array.max(axis=0)\t| Maximum value of specified axis\n",
        "array.cumsum(axis=0)\t| Cumulative sum of specified axis\n",
        "\n",
        "# Slicing and Subsetting\n",
        "\n",
        "Operator\t| Description\n",
        ":-----------|:-------------\n",
        "array[i]\t| 1d array at index i\n",
        "array[i,j]\t| 2d array at index[i][j]\n",
        "array[i<4]\t| Boolean Indexing, see Tricks\n",
        "array[0:3]\t| Select items of index 0, 1 and 2\n",
        "array[0:2,1]\t| Select items of rows 0 and 1 at column 1\n",
        "array[:1]\t| Select items of row 0 (equals array[0:1, :])\n",
        "array[1:2, :]\t| Select items of row 1\n",
        "[comment]: <> | (\tarray[1,...]\n",
        "array[ : :-1]\t| Reverses array\n"
      ]
    },
    {
      "cell_type": "markdown",
      "metadata": {
        "id": "5nFfGRAvuZ9u"
      },
      "source": [
        "## 1. Installation"
      ]
    },
    {
      "cell_type": "markdown",
      "metadata": {
        "id": "KQ-yktGmuZ9v"
      },
      "source": [
        "pip install numpy"
      ]
    },
    {
      "cell_type": "markdown",
      "metadata": {
        "id": "eEIREY8ouZ9w"
      },
      "source": [
        "## 2. Motivation"
      ]
    },
    {
      "cell_type": "markdown",
      "metadata": {
        "id": "0qQNE7B0uZ9w"
      },
      "source": [
        "Numpy provides extension package to python for multi dimensional arrays.<br>\n",
        "Also known as array oriented computing."
      ]
    },
    {
      "cell_type": "markdown",
      "metadata": {
        "id": "G_sIhUsbuZ9w"
      },
      "source": [
        "### creating array in numpy"
      ]
    },
    {
      "cell_type": "code",
      "execution_count": null,
      "metadata": {
        "colab": {
          "base_uri": "https://localhost:8080/"
        },
        "id": "-9IpjRaPuZ9x",
        "outputId": "c723168f-cf95-47aa-a454-7b0f9084eeab"
      },
      "outputs": [
        {
          "output_type": "stream",
          "name": "stdout",
          "text": [
            "[0 1 2 3 4 5 6 7 8 9]\n",
            "[1 2 3 4 5]\n"
          ]
        }
      ],
      "source": [
        "import numpy as np\n",
        "\n",
        "a = np.arange(10) #using arange function\n",
        "print(a)\n",
        "\n",
        "b = np.array([1,2,3,4,5]) #creating array from list\n",
        "print(b)"
      ]
    },
    {
      "cell_type": "markdown",
      "metadata": {
        "id": "J2N0kzNTuZ9y"
      },
      "source": [
        "### why to use numpy ?"
      ]
    },
    {
      "cell_type": "code",
      "execution_count": null,
      "metadata": {
        "colab": {
          "base_uri": "https://localhost:8080/"
        },
        "id": "h0ruwM4guZ9y",
        "outputId": "d60ecfce-8b89-4e9a-c9e8-d512c5370ed3"
      },
      "outputs": [
        {
          "output_type": "stream",
          "name": "stdout",
          "text": [
            "313 µs ± 39.9 µs per loop (mean ± std. dev. of 7 runs, 1000 loops each)\n"
          ]
        }
      ],
      "source": [
        "L = range(1000)\n",
        "%timeit [i**2 for i in L]"
      ]
    },
    {
      "cell_type": "code",
      "execution_count": null,
      "metadata": {
        "colab": {
          "base_uri": "https://localhost:8080/"
        },
        "id": "ja6q_1sFuZ9z",
        "outputId": "d3facf68-29c8-4b43-93d0-ce0e814f6a45"
      },
      "outputs": [
        {
          "output_type": "stream",
          "name": "stdout",
          "text": [
            "1.36 µs ± 77.3 ns per loop (mean ± std. dev. of 7 runs, 100000 loops each)\n"
          ]
        }
      ],
      "source": [
        "A = np.arange(1000)\n",
        "%timeit A**2"
      ]
    },
    {
      "cell_type": "code",
      "execution_count": null,
      "metadata": {
        "colab": {
          "base_uri": "https://localhost:8080/"
        },
        "id": "noVU--94uZ90",
        "outputId": "3062d745-f6c1-497a-df56-738cad27461c"
      },
      "outputs": [
        {
          "output_type": "stream",
          "name": "stdout",
          "text": [
            "Numpy implementation is 217.6 times faster than lists implementation\n"
          ]
        }
      ],
      "source": [
        "print(\"Numpy implementation is {0} times faster than lists implementation\".format(272/1.25))"
      ]
    },
    {
      "cell_type": "markdown",
      "metadata": {
        "id": "RVl49-FluZ90"
      },
      "source": [
        "## 3. Creating arrays"
      ]
    },
    {
      "cell_type": "markdown",
      "metadata": {
        "id": "gd-3Y7HuuZ90"
      },
      "source": [
        "### 3.1. Manual construction of the arrays"
      ]
    },
    {
      "cell_type": "code",
      "execution_count": null,
      "metadata": {
        "colab": {
          "base_uri": "https://localhost:8080/"
        },
        "id": "C4MxA8hbuZ91",
        "outputId": "78a50709-b70b-4dfd-ceda-3b7992d52971"
      },
      "outputs": [
        {
          "output_type": "execute_result",
          "data": {
            "text/plain": [
              "array([1, 2, 3, 4, 5])"
            ]
          },
          "metadata": {},
          "execution_count": 7
        }
      ],
      "source": [
        "#create 1 - D array #vector\n",
        "a = np.array([1,2,3,4,5])\n",
        "\n",
        "a"
      ]
    },
    {
      "cell_type": "code",
      "execution_count": null,
      "metadata": {
        "colab": {
          "base_uri": "https://localhost:8080/"
        },
        "id": "xXnlVUZ0uZ91",
        "outputId": "f5c7d76d-761b-46c5-b750-758f9fcf717e"
      },
      "outputs": [
        {
          "output_type": "execute_result",
          "data": {
            "text/plain": [
              "1"
            ]
          },
          "metadata": {},
          "execution_count": 8
        }
      ],
      "source": [
        "#print dimensions\n",
        "a.ndim"
      ]
    },
    {
      "cell_type": "code",
      "execution_count": null,
      "metadata": {
        "colab": {
          "base_uri": "https://localhost:8080/"
        },
        "id": "cMo8G-JyuZ91",
        "outputId": "d2efc640-7a2d-4d5f-f29c-dd370eb2ec27"
      },
      "outputs": [
        {
          "output_type": "execute_result",
          "data": {
            "text/plain": [
              "(5,)"
            ]
          },
          "metadata": {},
          "execution_count": 9
        }
      ],
      "source": [
        "#print shape\n",
        "a.shape"
      ]
    },
    {
      "cell_type": "code",
      "execution_count": null,
      "metadata": {
        "colab": {
          "base_uri": "https://localhost:8080/"
        },
        "id": "wq8ZLYLhuZ92",
        "outputId": "f00e1f48-8fe3-49ac-9ba8-3fa524c1ac4c"
      },
      "outputs": [
        {
          "output_type": "execute_result",
          "data": {
            "text/plain": [
              "5"
            ]
          },
          "metadata": {},
          "execution_count": 10
        }
      ],
      "source": [
        "len(a)"
      ]
    },
    {
      "cell_type": "code",
      "execution_count": null,
      "metadata": {
        "colab": {
          "base_uri": "https://localhost:8080/"
        },
        "id": "ad9C_3c4uZ92",
        "outputId": "19d44321-d5a6-401d-ec0f-42052ddfcfe3"
      },
      "outputs": [
        {
          "output_type": "execute_result",
          "data": {
            "text/plain": [
              "array([[1, 2, 3],\n",
              "       [4, 5, 6]])"
            ]
          },
          "metadata": {},
          "execution_count": 11
        }
      ],
      "source": [
        "#create 2-D array #matrix\n",
        "\n",
        "b = np.array([[1,2,3],[4,5,6]]) #list of lists\n",
        "\n",
        "b"
      ]
    },
    {
      "cell_type": "code",
      "execution_count": null,
      "metadata": {
        "colab": {
          "base_uri": "https://localhost:8080/"
        },
        "id": "GT19i0spuZ93",
        "outputId": "5ce8f79b-c4cf-4f58-f695-b2a80bba059d"
      },
      "outputs": [
        {
          "output_type": "execute_result",
          "data": {
            "text/plain": [
              "2"
            ]
          },
          "metadata": {},
          "execution_count": 12
        }
      ],
      "source": [
        "b.ndim"
      ]
    },
    {
      "cell_type": "code",
      "execution_count": null,
      "metadata": {
        "colab": {
          "base_uri": "https://localhost:8080/"
        },
        "id": "KveYQuDGuZ93",
        "outputId": "ff1025c2-bef9-414e-b62b-46ed8c02791a"
      },
      "outputs": [
        {
          "output_type": "execute_result",
          "data": {
            "text/plain": [
              "(2, 3)"
            ]
          },
          "metadata": {},
          "execution_count": 13
        }
      ],
      "source": [
        "b.shape"
      ]
    },
    {
      "cell_type": "code",
      "execution_count": null,
      "metadata": {
        "colab": {
          "base_uri": "https://localhost:8080/"
        },
        "id": "Cumhj6JvuZ93",
        "outputId": "e4a1b8f5-3245-4e44-b30d-62aab8c8c7e9"
      },
      "outputs": [
        {
          "output_type": "execute_result",
          "data": {
            "text/plain": [
              "2"
            ]
          },
          "metadata": {},
          "execution_count": 14
        }
      ],
      "source": [
        "len(b) #size of first dimension or number of rows"
      ]
    },
    {
      "cell_type": "code",
      "execution_count": null,
      "metadata": {
        "colab": {
          "base_uri": "https://localhost:8080/"
        },
        "id": "47BfEDrwuZ94",
        "outputId": "f31388ad-956b-429b-ec12-cc83ef645f4a"
      },
      "outputs": [
        {
          "output_type": "execute_result",
          "data": {
            "text/plain": [
              "array([[[0, 1],\n",
              "        [2, 3]],\n",
              "\n",
              "       [[4, 5],\n",
              "        [6, 7]]])"
            ]
          },
          "metadata": {},
          "execution_count": 15
        }
      ],
      "source": [
        "#create 3 - D array #tensors\n",
        "\n",
        "c = np.array([[[0,1],[2,3]],[[4,5],[6,7]]])\n",
        "\n",
        "c"
      ]
    },
    {
      "cell_type": "code",
      "execution_count": null,
      "metadata": {
        "colab": {
          "base_uri": "https://localhost:8080/"
        },
        "id": "MKKVNSXcuZ94",
        "outputId": "b679e938-9485-4476-ead3-276c7c4acb62"
      },
      "outputs": [
        {
          "output_type": "execute_result",
          "data": {
            "text/plain": [
              "3"
            ]
          },
          "metadata": {},
          "execution_count": 16
        }
      ],
      "source": [
        "c.ndim"
      ]
    },
    {
      "cell_type": "code",
      "execution_count": null,
      "metadata": {
        "colab": {
          "base_uri": "https://localhost:8080/"
        },
        "id": "VDEq9p2UuZ94",
        "outputId": "fdf134c5-9a29-4284-ddd3-9f13131e9bc0"
      },
      "outputs": [
        {
          "output_type": "execute_result",
          "data": {
            "text/plain": [
              "(2, 2, 2)"
            ]
          },
          "metadata": {},
          "execution_count": 17
        }
      ],
      "source": [
        "c.shape"
      ]
    },
    {
      "cell_type": "code",
      "execution_count": null,
      "metadata": {
        "colab": {
          "base_uri": "https://localhost:8080/"
        },
        "id": "AShZLyN5uZ94",
        "outputId": "336656eb-634f-484f-a7fa-c69a522bbae3"
      },
      "outputs": [
        {
          "output_type": "execute_result",
          "data": {
            "text/plain": [
              "2"
            ]
          },
          "metadata": {},
          "execution_count": 18
        }
      ],
      "source": [
        "len(c)"
      ]
    },
    {
      "cell_type": "markdown",
      "metadata": {
        "id": "-eQvIsaLuZ95"
      },
      "source": [
        "### 3.2. Functions for creating arrays"
      ]
    },
    {
      "cell_type": "code",
      "execution_count": null,
      "metadata": {
        "colab": {
          "base_uri": "https://localhost:8080/"
        },
        "id": "mpzJtCAJuZ95",
        "outputId": "3bc1bdeb-ae7b-4a76-cac0-2aa4b992a496"
      },
      "outputs": [
        {
          "output_type": "execute_result",
          "data": {
            "text/plain": [
              "array([0, 1, 2, 3, 4, 5, 6, 7, 8, 9])"
            ]
          },
          "metadata": {},
          "execution_count": 19
        }
      ],
      "source": [
        "#using arange function\n",
        "\n",
        "a = np.arange(10)\n",
        "\n",
        "a"
      ]
    },
    {
      "cell_type": "code",
      "execution_count": null,
      "metadata": {
        "colab": {
          "base_uri": "https://localhost:8080/"
        },
        "id": "y1xR6YM0uZ96",
        "outputId": "958d53c4-5955-43be-f071-7d22e4c82ff0"
      },
      "outputs": [
        {
          "output_type": "execute_result",
          "data": {
            "text/plain": [
              "array([1, 3, 5, 7, 9])"
            ]
          },
          "metadata": {},
          "execution_count": 20
        }
      ],
      "source": [
        "b = np.arange(1,10,2) #start, end, step\n",
        "\n",
        "b"
      ]
    },
    {
      "cell_type": "code",
      "execution_count": null,
      "metadata": {
        "colab": {
          "base_uri": "https://localhost:8080/"
        },
        "id": "RDdN0lMVuZ96",
        "outputId": "a0075710-9d6e-4bd1-e532-3c2dfd557133"
      },
      "outputs": [
        {
          "output_type": "execute_result",
          "data": {
            "text/plain": [
              "array([ 5.  ,  6.25,  7.5 ,  8.75, 10.  ])"
            ]
          },
          "metadata": {},
          "execution_count": 21
        }
      ],
      "source": [
        "#using linspace #linearspace\n",
        "\n",
        "c = np.linspace(5, 10, 5) #start, end, number of points\n",
        "\n",
        "c"
      ]
    },
    {
      "cell_type": "code",
      "execution_count": null,
      "metadata": {
        "colab": {
          "base_uri": "https://localhost:8080/"
        },
        "id": "0BWnG9hcuZ97",
        "outputId": "cafec99b-e35d-48db-a818-64dcc22e3c09"
      },
      "outputs": [
        {
          "output_type": "execute_result",
          "data": {
            "text/plain": [
              "array([[1., 1., 1.],\n",
              "       [1., 1., 1.],\n",
              "       [1., 1., 1.]])"
            ]
          },
          "metadata": {},
          "execution_count": 22
        }
      ],
      "source": [
        "#common arrays\n",
        "\n",
        "d = np.ones((3,3))\n",
        "\n",
        "d"
      ]
    },
    {
      "cell_type": "code",
      "execution_count": null,
      "metadata": {
        "colab": {
          "base_uri": "https://localhost:8080/"
        },
        "id": "4BkDEaU0uZ97",
        "outputId": "47830ce7-db60-44f2-ec90-65461abdfe4c"
      },
      "outputs": [
        {
          "output_type": "execute_result",
          "data": {
            "text/plain": [
              "array([[0., 0., 0.],\n",
              "       [0., 0., 0.],\n",
              "       [0., 0., 0.]])"
            ]
          },
          "metadata": {},
          "execution_count": 23
        }
      ],
      "source": [
        "x = np.zeros((3,3))\n",
        "\n",
        "x"
      ]
    },
    {
      "cell_type": "code",
      "execution_count": null,
      "metadata": {
        "colab": {
          "base_uri": "https://localhost:8080/"
        },
        "id": "FybUWBNuuZ97",
        "outputId": "2618e986-f3fa-42be-845c-6692c0710578"
      },
      "outputs": [
        {
          "output_type": "execute_result",
          "data": {
            "text/plain": [
              "array([[1., 0., 0.],\n",
              "       [0., 1., 0.],\n",
              "       [0., 0., 1.]])"
            ]
          },
          "metadata": {},
          "execution_count": 24
        }
      ],
      "source": [
        "y = np.eye(3) #creates a matrix with 1 as the diagonals and 0 as non-diagonal elements\n",
        "\n",
        "y"
      ]
    },
    {
      "cell_type": "code",
      "execution_count": null,
      "metadata": {
        "colab": {
          "base_uri": "https://localhost:8080/"
        },
        "id": "tFLsPSMjuZ98",
        "outputId": "608fb34d-b8f0-4f3e-f3d2-317dcf1981b3"
      },
      "outputs": [
        {
          "output_type": "execute_result",
          "data": {
            "text/plain": [
              "array([[1., 0.],\n",
              "       [0., 1.],\n",
              "       [0., 0.]])"
            ]
          },
          "metadata": {},
          "execution_count": 25
        }
      ],
      "source": [
        "z = np.eye(3,2)\n",
        "\n",
        "z"
      ]
    },
    {
      "cell_type": "code",
      "execution_count": null,
      "metadata": {
        "colab": {
          "base_uri": "https://localhost:8080/"
        },
        "id": "nEk9DWmkuZ99",
        "outputId": "3197c616-0465-4990-8e62-871641cb708b"
      },
      "outputs": [
        {
          "output_type": "stream",
          "name": "stdout",
          "text": [
            "[[1 0 0 0]\n",
            " [0 2 0 0]\n",
            " [0 0 3 0]\n",
            " [0 0 0 4]]\n"
          ]
        }
      ],
      "source": [
        "a = np.diag([1,2,3,4]) #construct a diagonal array\n",
        "\n",
        "print(a)"
      ]
    },
    {
      "cell_type": "code",
      "execution_count": null,
      "metadata": {
        "colab": {
          "base_uri": "https://localhost:8080/"
        },
        "id": "uNq4x_NHuZ99",
        "outputId": "2eb2a429-c17b-4537-d22b-cf8ccf5882fd"
      },
      "outputs": [
        {
          "output_type": "execute_result",
          "data": {
            "text/plain": [
              "array([1, 2, 3, 4])"
            ]
          },
          "metadata": {},
          "execution_count": 27
        }
      ],
      "source": [
        "np.diag(a) #extracts the diagonal elements of matrix a"
      ]
    },
    {
      "cell_type": "code",
      "execution_count": null,
      "metadata": {
        "colab": {
          "base_uri": "https://localhost:8080/"
        },
        "id": "FZpHfTB8uZ9-",
        "outputId": "1207bf56-1783-46d2-f3aa-66bff1342377"
      },
      "outputs": [
        {
          "output_type": "stream",
          "name": "stdout",
          "text": [
            "[0.03274087 0.7204918  0.92578089 0.88200454]\n"
          ]
        }
      ],
      "source": [
        "#creates a array using random\n",
        "a = np.random.rand(4)\n",
        "\n",
        "print(a)"
      ]
    },
    {
      "cell_type": "markdown",
      "metadata": {
        "id": "MVYLNrmjuZ9-"
      },
      "source": [
        "## 4. Datatypes"
      ]
    },
    {
      "cell_type": "code",
      "execution_count": null,
      "metadata": {
        "colab": {
          "base_uri": "https://localhost:8080/"
        },
        "id": "eJWmqHXAuZ9_",
        "outputId": "a65fe703-77ba-4de4-e180-cd709c2a6f25"
      },
      "outputs": [
        {
          "output_type": "stream",
          "name": "stdout",
          "text": [
            "[0. 1. 2. 3. 4. 5. 6. 7. 8. 9.]\n"
          ]
        }
      ],
      "source": [
        "#we can explicitly specify the required data type\n",
        "a = np.arange(10, dtype='float')\n",
        "\n",
        "print(a)"
      ]
    },
    {
      "cell_type": "code",
      "execution_count": null,
      "metadata": {
        "colab": {
          "base_uri": "https://localhost:8080/"
        },
        "id": "w18A4rcwuZ-U",
        "outputId": "b74bc6d9-1e6c-44dd-e5a2-befb449f4ff1"
      },
      "outputs": [
        {
          "output_type": "stream",
          "name": "stdout",
          "text": [
            "complex128\n"
          ]
        }
      ],
      "source": [
        "b = np.array([1+2j, 5+1j])\n",
        "\n",
        "print(b.dtype)"
      ]
    },
    {
      "cell_type": "code",
      "execution_count": null,
      "metadata": {
        "colab": {
          "base_uri": "https://localhost:8080/"
        },
        "id": "IUHCpKZ6uZ-V",
        "outputId": "7b8b43f7-fb4b-45db-a408-aea921bea921"
      },
      "outputs": [
        {
          "output_type": "stream",
          "name": "stdout",
          "text": [
            "bool\n"
          ]
        }
      ],
      "source": [
        "c = np.array([True, False, True])\n",
        "\n",
        "print(c.dtype)"
      ]
    },
    {
      "cell_type": "markdown",
      "metadata": {
        "id": "lKh8SRXNuZ-V"
      },
      "source": [
        "## 5. Indexing and slicing"
      ]
    },
    {
      "cell_type": "markdown",
      "metadata": {
        "id": "a5FMpHwmuZ-W"
      },
      "source": [
        "### 5.1. Indexing"
      ]
    },
    {
      "cell_type": "code",
      "execution_count": null,
      "metadata": {
        "colab": {
          "base_uri": "https://localhost:8080/"
        },
        "id": "Okm22lhPuZ-W",
        "outputId": "50439dfa-8225-4cfd-e4f0-83696c205b95"
      },
      "outputs": [
        {
          "output_type": "stream",
          "name": "stdout",
          "text": [
            "5\n",
            "9\n"
          ]
        }
      ],
      "source": [
        "a = np.arange(10)\n",
        "\n",
        "#print(a)\n",
        "print(a[5])\n",
        "print(a[-1])"
      ]
    },
    {
      "cell_type": "code",
      "execution_count": null,
      "metadata": {
        "colab": {
          "base_uri": "https://localhost:8080/"
        },
        "id": "46ACRVtxuZ-X",
        "outputId": "23ca2a34-0428-4c8e-cbfb-6d677067c6d7"
      },
      "outputs": [
        {
          "output_type": "stream",
          "name": "stdout",
          "text": [
            "3\n"
          ]
        }
      ],
      "source": [
        "b = np.diag([1,2,3])\n",
        "\n",
        "#print(b)\n",
        "print(b[2,2])"
      ]
    },
    {
      "cell_type": "code",
      "execution_count": null,
      "metadata": {
        "colab": {
          "base_uri": "https://localhost:8080/"
        },
        "id": "hQ9sTGsduZ-X",
        "outputId": "e37c691c-fbbf-41c4-9162-eee6b1b3a4e4"
      },
      "outputs": [
        {
          "output_type": "stream",
          "name": "stdout",
          "text": [
            "[[ 1  0  0]\n",
            " [ 0  2  0]\n",
            " [ 0 10  3]]\n"
          ]
        }
      ],
      "source": [
        "b[2,1] = 10 #asigning value to a index\n",
        "\n",
        "print(b)"
      ]
    },
    {
      "cell_type": "markdown",
      "metadata": {
        "id": "Ccf9XfJNuZ-Y"
      },
      "source": [
        "### 5.2. Slicing"
      ]
    },
    {
      "cell_type": "code",
      "execution_count": null,
      "metadata": {
        "colab": {
          "base_uri": "https://localhost:8080/"
        },
        "id": "1yuCmMBnuZ-Y",
        "outputId": "ce491176-d06f-4388-da91-569947fe5a1a"
      },
      "outputs": [
        {
          "output_type": "stream",
          "name": "stdout",
          "text": [
            "[1 3 5 7 9]\n"
          ]
        }
      ],
      "source": [
        "a = np.arange(10)\n",
        "\n",
        "print(a[1:10:2]) #[start_value: end_value(exclusive): step]"
      ]
    },
    {
      "cell_type": "code",
      "execution_count": null,
      "metadata": {
        "colab": {
          "base_uri": "https://localhost:8080/"
        },
        "id": "BIGRhZyAuZ-Y",
        "outputId": "f9b9b5fc-f0c7-4cd0-b904-595bd8296d7d"
      },
      "outputs": [
        {
          "output_type": "stream",
          "name": "stdout",
          "text": [
            "[ 0  1  2  3  4 10 10 10 10 10]\n"
          ]
        }
      ],
      "source": [
        "b = np.arange(10)\n",
        "\n",
        "b[5:] = 10 #assign 10 from index 5 to end\n",
        "\n",
        "print(b)"
      ]
    },
    {
      "cell_type": "code",
      "execution_count": null,
      "metadata": {
        "colab": {
          "base_uri": "https://localhost:8080/"
        },
        "id": "76l56v0iuZ-Z",
        "outputId": "66defe5c-ece1-4151-d1c5-de1e8d788541"
      },
      "outputs": [
        {
          "output_type": "stream",
          "name": "stdout",
          "text": [
            "[0 1 2 3 4 4 3 2 1 0]\n"
          ]
        }
      ],
      "source": [
        "c = np.arange(5)\n",
        "\n",
        "b[5:] = c[::-1] #assign in reverse order\n",
        "\n",
        "print(b)ģ"
      ]
    },
    {
      "cell_type": "markdown",
      "metadata": {
        "id": "mldy-ANauZ-Z"
      },
      "source": [
        "## 6. Copies and views"
      ]
    },
    {
      "cell_type": "markdown",
      "metadata": {
        "id": "3xFep6jbuZ-a"
      },
      "source": [
        "Slicing operation creates a view on the original array which is just a way of accessing the data. Thus, the original array is not copied in the memory. You can use <strong>np.may_share_memory()</strong> to check whether two arrays share the same memory block."
      ]
    },
    {
      "cell_type": "code",
      "execution_count": null,
      "metadata": {
        "colab": {
          "base_uri": "https://localhost:8080/"
        },
        "id": "AzIMQk-muZ-b",
        "outputId": "5f364dda-c00f-450d-db9c-20c82144b96b"
      },
      "outputs": [
        {
          "output_type": "execute_result",
          "data": {
            "text/plain": [
              "True"
            ]
          },
          "metadata": {},
          "execution_count": 38
        }
      ],
      "source": [
        "a = np.arange(10)\n",
        "\n",
        "b = a[::2]\n",
        "\n",
        "np.shares_memory(a,b)"
      ]
    },
    {
      "cell_type": "code",
      "execution_count": null,
      "metadata": {
        "colab": {
          "base_uri": "https://localhost:8080/"
        },
        "id": "gfth9t7QuZ-c",
        "outputId": "658d4470-fdbe-40b8-8454-cd59e0d4d913"
      },
      "outputs": [
        {
          "output_type": "stream",
          "name": "stdout",
          "text": [
            "[10  2  4  6  8]\n",
            "[10  1  2  3  4  5  6  7  8  9]\n"
          ]
        }
      ],
      "source": [
        "b[0] = 10\n",
        "\n",
        "print(b)\n",
        "print(a) #a is also updated, since is shares the same location in memory"
      ]
    },
    {
      "cell_type": "code",
      "execution_count": null,
      "metadata": {
        "colab": {
          "base_uri": "https://localhost:8080/"
        },
        "id": "-A9YaWuuuZ-c",
        "outputId": "91da3dd8-639c-4698-ff3f-26bcee3f0c88"
      },
      "outputs": [
        {
          "output_type": "execute_result",
          "data": {
            "text/plain": [
              "False"
            ]
          },
          "metadata": {},
          "execution_count": 40
        }
      ],
      "source": [
        "c = a[::2].copy() #force the copy\n",
        "\n",
        "np.shares_memory(a,c)"
      ]
    },
    {
      "cell_type": "code",
      "execution_count": null,
      "metadata": {
        "colab": {
          "base_uri": "https://localhost:8080/"
        },
        "id": "MPtFxbb5uZ-d",
        "outputId": "e9ba295e-8808-4a46-8096-4fb0028c4a2c"
      },
      "outputs": [
        {
          "output_type": "stream",
          "name": "stdout",
          "text": [
            "[5 2 4 6 8]\n",
            "[10  1  2  3  4  5  6  7  8  9]\n"
          ]
        }
      ],
      "source": [
        "c[0] = 5\n",
        "\n",
        "print(c)\n",
        "print(a)"
      ]
    },
    {
      "cell_type": "markdown",
      "metadata": {
        "id": "ycA4opRBuZ-e"
      },
      "source": [
        "## 7. Fancy Indexing"
      ]
    },
    {
      "cell_type": "markdown",
      "metadata": {
        "id": "NCejdX15uZ-f"
      },
      "source": [
        "### 7.1 Using Boolean mask"
      ]
    },
    {
      "cell_type": "code",
      "execution_count": null,
      "metadata": {
        "colab": {
          "base_uri": "https://localhost:8080/"
        },
        "id": "v-ShxBi8uZ-g",
        "outputId": "e262253b-b710-4a41-8459-b1e2a69774e0"
      },
      "outputs": [
        {
          "output_type": "stream",
          "name": "stdout",
          "text": [
            "[15 16 10 19  1 15 12 19 12  1  5  3 11 16 18]\n"
          ]
        }
      ],
      "source": [
        "a = np.random.randint(0,20,15)\n",
        "\n",
        "print(a)"
      ]
    },
    {
      "cell_type": "code",
      "execution_count": null,
      "metadata": {
        "id": "6Unyy29OuZ-h"
      },
      "outputs": [],
      "source": [
        "mask = (a % 2 == 0)"
      ]
    },
    {
      "cell_type": "code",
      "execution_count": null,
      "metadata": {
        "colab": {
          "base_uri": "https://localhost:8080/",
          "height": 228
        },
        "id": "_O3C6_UAuZ-h",
        "outputId": "0d135ad4-fafd-4178-c7b3-ed6939dec1fd"
      },
      "outputs": [
        {
          "output_type": "error",
          "ename": "NameError",
          "evalue": "name 'mask' is not defined",
          "traceback": [
            "\u001b[0;31m---------------------------------------------------------------------------\u001b[0m",
            "\u001b[0;31mNameError\u001b[0m                                 Traceback (most recent call last)",
            "\u001b[0;32m<ipython-input-38-b36ac82a1066>\u001b[0m in \u001b[0;36m<cell line: 1>\u001b[0;34m()\u001b[0m\n\u001b[0;32m----> 1\u001b[0;31m \u001b[0meven_numbers\u001b[0m \u001b[0;34m=\u001b[0m \u001b[0ma\u001b[0m\u001b[0;34m[\u001b[0m\u001b[0mmask\u001b[0m\u001b[0;34m]\u001b[0m\u001b[0;34m\u001b[0m\u001b[0;34m\u001b[0m\u001b[0m\n\u001b[0m\u001b[1;32m      2\u001b[0m \u001b[0;34m\u001b[0m\u001b[0m\n\u001b[1;32m      3\u001b[0m \u001b[0mprint\u001b[0m\u001b[0;34m(\u001b[0m\u001b[0meven_numbers\u001b[0m\u001b[0;34m)\u001b[0m\u001b[0;34m\u001b[0m\u001b[0;34m\u001b[0m\u001b[0m\n",
            "\u001b[0;31mNameError\u001b[0m: name 'mask' is not defined"
          ]
        }
      ],
      "source": [
        "even_numbers = a[mask]\n",
        "\n",
        "print(even_numbers)"
      ]
    },
    {
      "cell_type": "code",
      "execution_count": null,
      "metadata": {
        "colab": {
          "base_uri": "https://localhost:8080/"
        },
        "id": "2MhPRLycuZ-i",
        "outputId": "6257e63d-5d26-4d72-c5ac-495ef4399873"
      },
      "outputs": [
        {
          "output_type": "stream",
          "name": "stdout",
          "text": [
            "[15 -1 -1 19  1 15 -1 19 -1  1  5  3 11 -1 -1]\n"
          ]
        }
      ],
      "source": [
        "a[mask]=-1 #it can be very useful to assign a new value to sub array\n",
        "\n",
        "print(a)"
      ]
    },
    {
      "cell_type": "markdown",
      "metadata": {
        "id": "tgyNAICeuZ-j"
      },
      "source": [
        "### 7.2. Using Integer Array"
      ]
    },
    {
      "cell_type": "code",
      "execution_count": null,
      "metadata": {
        "colab": {
          "base_uri": "https://localhost:8080/"
        },
        "id": "tgNtSBVauZ-k",
        "outputId": "791b454f-9e3a-49f2-9f8a-ac1ab56bcc8f"
      },
      "outputs": [
        {
          "output_type": "stream",
          "name": "stdout",
          "text": [
            "[ 0 10 20 30 40 50 60 70 80 90]\n"
          ]
        }
      ],
      "source": [
        "a = np.arange(0,100,10)\n",
        "\n",
        "print(a)"
      ]
    },
    {
      "cell_type": "code",
      "execution_count": null,
      "metadata": {
        "colab": {
          "base_uri": "https://localhost:8080/"
        },
        "id": "x2sjr6FyuZ-k",
        "outputId": "6d5ccaa6-2d49-4232-8ed4-64b5b69a5dd0"
      },
      "outputs": [
        {
          "output_type": "stream",
          "name": "stdout",
          "text": [
            "[20 30 50 20 40]\n"
          ]
        }
      ],
      "source": [
        "b = a[[2,3,5,2,4]]\n",
        "\n",
        "print(b)"
      ]
    },
    {
      "cell_type": "code",
      "execution_count": null,
      "metadata": {
        "colab": {
          "base_uri": "https://localhost:8080/"
        },
        "id": "3h3hRQULuZ-l",
        "outputId": "35316c33-c3d8-400c-f76a-bc01b0bec451"
      },
      "outputs": [
        {
          "output_type": "stream",
          "name": "stdout",
          "text": [
            "[   0   10   20   30   40   50   60 -200   80 -200]\n",
            "[20 30 50 20 40]\n"
          ]
        }
      ],
      "source": [
        "a[[9,7]] = -200\n",
        "\n",
        "print(a)\n",
        "print(b)"
      ]
    },
    {
      "cell_type": "markdown",
      "metadata": {
        "id": "AOtrWirRuZ-l"
      },
      "source": [
        "## 8. Numerical Operations on numpy"
      ]
    },
    {
      "cell_type": "markdown",
      "metadata": {
        "id": "5X6EIizluZ-m"
      },
      "source": [
        "### 8.1. Element wise operations"
      ]
    },
    {
      "cell_type": "code",
      "execution_count": null,
      "metadata": {
        "colab": {
          "base_uri": "https://localhost:8080/"
        },
        "id": "xMPnqn0duZ-m",
        "outputId": "24e34ad1-399d-4732-dd37-ab121b0ee8bb"
      },
      "outputs": [
        {
          "output_type": "stream",
          "name": "stdout",
          "text": [
            "[ 1  2  3  4  5  6  7  8  9 10]\n"
          ]
        }
      ],
      "source": [
        "a = np.arange(10)\n",
        "\n",
        "print(a+1)"
      ]
    },
    {
      "cell_type": "code",
      "execution_count": null,
      "metadata": {
        "colab": {
          "base_uri": "https://localhost:8080/"
        },
        "id": "HiX8TTILuZ-m",
        "outputId": "2eeead29-c67e-41e1-973c-d73ea998866e"
      },
      "outputs": [
        {
          "output_type": "stream",
          "name": "stdout",
          "text": [
            "[ 0  1  4  9 16 25 36 49 64 81]\n"
          ]
        }
      ],
      "source": [
        "print(a ** 2)"
      ]
    },
    {
      "cell_type": "code",
      "execution_count": null,
      "metadata": {
        "colab": {
          "base_uri": "https://localhost:8080/"
        },
        "id": "qfN3NCWHuZ-n",
        "outputId": "f960a9e6-e661-46b6-a160-5975bbf5db44"
      },
      "outputs": [
        {
          "output_type": "stream",
          "name": "stdout",
          "text": [
            "b =  [2. 2. 2. 2. 2. 2. 2. 2. 2. 2.]\n",
            "a - b =  [-2. -1.  0.  1.  2.  3.  4.  5.  6.  7.]\n"
          ]
        }
      ],
      "source": [
        "b = np.ones(10) + 1\n",
        "print(\"b = \", b)\n",
        "\n",
        "print(\"a - b = \",a-b)"
      ]
    },
    {
      "cell_type": "code",
      "execution_count": null,
      "metadata": {
        "colab": {
          "base_uri": "https://localhost:8080/"
        },
        "id": "m7vPjVFvuZ-n",
        "outputId": "cbcf7a78-a4ba-456d-f830-3a7c07fc37ab"
      },
      "outputs": [
        {
          "output_type": "stream",
          "name": "stdout",
          "text": [
            "[ 0.  2.  4.  6.  8. 10. 12. 14. 16. 18.]\n"
          ]
        }
      ],
      "source": [
        "print(a*b)"
      ]
    },
    {
      "cell_type": "code",
      "execution_count": null,
      "metadata": {
        "colab": {
          "base_uri": "https://localhost:8080/"
        },
        "id": "WxHhIWmauZ-o",
        "outputId": "dc67fb4e-3c80-4160-81af-7080e2907f54"
      },
      "outputs": [
        {
          "output_type": "stream",
          "name": "stdout",
          "text": [
            "[[1 0 0 0]\n",
            " [0 2 0 0]\n",
            " [0 0 3 0]\n",
            " [0 0 0 4]]\n",
            "****************************************************************************************************\n",
            "[[ 1  0  0  0]\n",
            " [ 0  4  0  0]\n",
            " [ 0  0  9  0]\n",
            " [ 0  0  0 16]]\n",
            "****************************************************************************************************\n",
            "[[ 1  0  0  0]\n",
            " [ 0  4  0  0]\n",
            " [ 0  0  9  0]\n",
            " [ 0  0  0 16]]\n"
          ]
        }
      ],
      "source": [
        "#Matrix Multiplication\n",
        "\n",
        "c = np.diag([1,2,3,4])\n",
        "\n",
        "print(c)\n",
        "print(\"*\"*100)\n",
        "print(c*c)\n",
        "print(\"*\"*100)\n",
        "print(c.dot(c))"
      ]
    },
    {
      "cell_type": "code",
      "execution_count": null,
      "metadata": {
        "colab": {
          "base_uri": "https://localhost:8080/"
        },
        "id": "RN3Ap2TauZ-o",
        "outputId": "9639b297-b52f-4050-ef8c-a58e3ebfee4d"
      },
      "outputs": [
        {
          "output_type": "stream",
          "name": "stdout",
          "text": [
            "[False  True False  True]\n"
          ]
        }
      ],
      "source": [
        "# element comparisions\n",
        "\n",
        "a = np.array([1,2,5,4])\n",
        "b = np.array([6,2,9,4])\n",
        "\n",
        "print(a==b)"
      ]
    },
    {
      "cell_type": "code",
      "execution_count": null,
      "metadata": {
        "colab": {
          "base_uri": "https://localhost:8080/"
        },
        "id": "K-Hy0RtUuZ-p",
        "outputId": "ac110873-f4c1-4c61-afd9-992fb56dcec2"
      },
      "outputs": [
        {
          "output_type": "stream",
          "name": "stdout",
          "text": [
            "[False False False False]\n"
          ]
        }
      ],
      "source": [
        "print(a>b)"
      ]
    },
    {
      "cell_type": "code",
      "execution_count": null,
      "metadata": {
        "colab": {
          "base_uri": "https://localhost:8080/"
        },
        "id": "LQMJI6oauZ-p",
        "outputId": "8db5c544-da53-4558-ad32-c6a7dd76efd7"
      },
      "outputs": [
        {
          "output_type": "stream",
          "name": "stdout",
          "text": [
            "[ True False  True False]\n"
          ]
        }
      ],
      "source": [
        "print(a<b)"
      ]
    },
    {
      "cell_type": "code",
      "execution_count": null,
      "metadata": {
        "colab": {
          "base_uri": "https://localhost:8080/"
        },
        "id": "UBoanUf4uZ-q",
        "outputId": "ca53f639-9c1f-4060-d0d5-7f93aea3bfd9"
      },
      "outputs": [
        {
          "output_type": "stream",
          "name": "stdout",
          "text": [
            "[ True  True  True  True]\n"
          ]
        }
      ],
      "source": [
        "print(a<=b)"
      ]
    },
    {
      "cell_type": "code",
      "execution_count": null,
      "metadata": {
        "colab": {
          "base_uri": "https://localhost:8080/"
        },
        "id": "zJm-YPmHuZ-q",
        "outputId": "4b0a94e7-760c-4b13-f816-84c7742b18f8"
      },
      "outputs": [
        {
          "output_type": "stream",
          "name": "stdout",
          "text": [
            "False\n"
          ]
        }
      ],
      "source": [
        "#array wise comparision\n",
        "\n",
        "print(np.array_equal(a,b))"
      ]
    },
    {
      "cell_type": "code",
      "execution_count": null,
      "metadata": {
        "colab": {
          "base_uri": "https://localhost:8080/"
        },
        "id": "nSKW8GG-uZ-r",
        "outputId": "13383953-dffe-43a9-a3a2-c3f1620071ec"
      },
      "outputs": [
        {
          "output_type": "stream",
          "name": "stdout",
          "text": [
            "True\n"
          ]
        }
      ],
      "source": [
        "c = np.array([1,2,5,4])\n",
        "\n",
        "print(np.array_equal(a,c))"
      ]
    },
    {
      "cell_type": "markdown",
      "metadata": {
        "id": "8QHIVhJ5uZ-s"
      },
      "source": [
        "#### Logical Operations"
      ]
    },
    {
      "cell_type": "code",
      "execution_count": null,
      "metadata": {
        "colab": {
          "base_uri": "https://localhost:8080/"
        },
        "id": "IvE78PPBuZ-t",
        "outputId": "3cbc76ec-be27-4e86-9e73-5eb891f22726"
      },
      "outputs": [
        {
          "output_type": "stream",
          "name": "stdout",
          "text": [
            "[ True  True False  True]\n"
          ]
        }
      ],
      "source": [
        "a = np.array([1,0,0,1],dtype='bool')\n",
        "b = np.array([0,1,0,1],dtype='bool')\n",
        "\n",
        "print(np.logical_or(a,b))"
      ]
    },
    {
      "cell_type": "code",
      "execution_count": null,
      "metadata": {
        "colab": {
          "base_uri": "https://localhost:8080/"
        },
        "id": "DG7tVr5HuZ-u",
        "outputId": "db29eef0-8a03-4316-fbf9-97e066892200"
      },
      "outputs": [
        {
          "output_type": "stream",
          "name": "stdout",
          "text": [
            "[False False False  True]\n"
          ]
        }
      ],
      "source": [
        "print(np.logical_and(a,b))"
      ]
    },
    {
      "cell_type": "code",
      "execution_count": null,
      "metadata": {
        "colab": {
          "base_uri": "https://localhost:8080/"
        },
        "id": "FkYaBwJauZ-v",
        "outputId": "7dd45717-e36b-4546-c4a3-334b4b9de40c"
      },
      "outputs": [
        {
          "output_type": "stream",
          "name": "stdout",
          "text": [
            "[False  True  True False]\n"
          ]
        }
      ],
      "source": [
        "print(np.logical_not(a))"
      ]
    },
    {
      "cell_type": "markdown",
      "metadata": {
        "id": "jJoAWulQuZ-v"
      },
      "source": [
        "#### Transcendental Functions:"
      ]
    },
    {
      "cell_type": "code",
      "execution_count": null,
      "metadata": {
        "colab": {
          "base_uri": "https://localhost:8080/"
        },
        "id": "BaXg5gwFuZ-w",
        "outputId": "d04d563e-914d-4560-e078-1dc5494c37ad"
      },
      "outputs": [
        {
          "output_type": "stream",
          "name": "stdout",
          "text": [
            "[ 0.84147098  0.90929743  0.14112001 -0.7568025  -0.95892427]\n"
          ]
        }
      ],
      "source": [
        "a = np.arange(5)+1\n",
        "\n",
        "print(np.sin(a))"
      ]
    },
    {
      "cell_type": "code",
      "execution_count": null,
      "metadata": {
        "colab": {
          "base_uri": "https://localhost:8080/"
        },
        "id": "HN9gdUbouZ-x",
        "outputId": "f670a201-0cd6-45b4-9e42-8e24b0dc9263"
      },
      "outputs": [
        {
          "output_type": "stream",
          "name": "stdout",
          "text": [
            "[0.         0.69314718 1.09861229 1.38629436 1.60943791]\n"
          ]
        }
      ],
      "source": [
        "print(np.log(a))"
      ]
    },
    {
      "cell_type": "code",
      "execution_count": null,
      "metadata": {
        "colab": {
          "base_uri": "https://localhost:8080/"
        },
        "id": "pdvBs5E7uZ-x",
        "outputId": "6b307179-e112-4ece-b590-c40a496f5a70"
      },
      "outputs": [
        {
          "output_type": "stream",
          "name": "stdout",
          "text": [
            "[  2.71828183   7.3890561   20.08553692  54.59815003 148.4131591 ]\n"
          ]
        }
      ],
      "source": [
        "print(np.exp(a))"
      ]
    },
    {
      "cell_type": "markdown",
      "metadata": {
        "id": "E_XFSnrmuZ-y"
      },
      "source": [
        "#### Shape Mismatch:"
      ]
    },
    {
      "cell_type": "code",
      "execution_count": null,
      "metadata": {
        "colab": {
          "base_uri": "https://localhost:8080/",
          "height": 263
        },
        "id": "pjjSflILuZ-y",
        "outputId": "a6780924-83cd-413e-98c0-0f59712a3b9c"
      },
      "outputs": [
        {
          "output_type": "error",
          "ename": "ValueError",
          "evalue": "operands could not be broadcast together with shapes (4,) (2,) ",
          "traceback": [
            "\u001b[0;31m---------------------------------------------------------------------------\u001b[0m",
            "\u001b[0;31mValueError\u001b[0m                                Traceback (most recent call last)",
            "\u001b[0;32m<ipython-input-16-ac8ed5b53694>\u001b[0m in \u001b[0;36m<cell line: 5>\u001b[0;34m()\u001b[0m\n\u001b[1;32m      3\u001b[0m \u001b[0mb\u001b[0m \u001b[0;34m=\u001b[0m \u001b[0mnp\u001b[0m\u001b[0;34m.\u001b[0m\u001b[0marray\u001b[0m\u001b[0;34m(\u001b[0m\u001b[0;34m[\u001b[0m\u001b[0;36m5\u001b[0m\u001b[0;34m,\u001b[0m \u001b[0;36m10\u001b[0m\u001b[0;34m]\u001b[0m\u001b[0;34m)\u001b[0m\u001b[0;34m\u001b[0m\u001b[0;34m\u001b[0m\u001b[0m\n\u001b[1;32m      4\u001b[0m \u001b[0;34m\u001b[0m\u001b[0m\n\u001b[0;32m----> 5\u001b[0;31m \u001b[0mprint\u001b[0m\u001b[0;34m(\u001b[0m\u001b[0ma\u001b[0m\u001b[0;34m+\u001b[0m\u001b[0mb\u001b[0m\u001b[0;34m)\u001b[0m\u001b[0;34m\u001b[0m\u001b[0;34m\u001b[0m\u001b[0m\n\u001b[0m",
            "\u001b[0;31mValueError\u001b[0m: operands could not be broadcast together with shapes (4,) (2,) "
          ]
        }
      ],
      "source": [
        "a = np.array([1,2,3,4])\n",
        "\n",
        "b = np.array([5, 10])\n",
        "\n",
        "print(a+b)"
      ]
    },
    {
      "cell_type": "markdown",
      "metadata": {
        "id": "MndNiZvyuZ-y"
      },
      "source": [
        "### 8.2. Basic Reductions"
      ]
    },
    {
      "cell_type": "code",
      "execution_count": null,
      "metadata": {
        "colab": {
          "base_uri": "https://localhost:8080/"
        },
        "id": "2FpKXBqOuZ-z",
        "outputId": "9038117b-f23b-4e8c-8c9e-d10ea84672f1"
      },
      "outputs": [
        {
          "output_type": "stream",
          "name": "stdout",
          "text": [
            "10\n"
          ]
        }
      ],
      "source": [
        "x = np.array([1,2,3,4])\n",
        "\n",
        "print(np.sum(x))"
      ]
    },
    {
      "cell_type": "code",
      "execution_count": null,
      "metadata": {
        "colab": {
          "base_uri": "https://localhost:8080/"
        },
        "id": "lKOuqGYjuZ-z",
        "outputId": "c1ad1013-28b2-4871-e319-25e94ce9586b"
      },
      "outputs": [
        {
          "output_type": "stream",
          "name": "stdout",
          "text": [
            "[[1 2]\n",
            " [3 4]]\n",
            "****************************************************************************************************\n",
            "[[1 3]\n",
            " [2 4]]\n"
          ]
        }
      ],
      "source": [
        "y = np.array([[1,2],[3,4]])\n",
        "\n",
        "print(y)\n",
        "print(\"*\"*100)\n",
        "print(y.T)"
      ]
    },
    {
      "cell_type": "code",
      "execution_count": null,
      "metadata": {
        "colab": {
          "base_uri": "https://localhost:8080/"
        },
        "id": "giS5HzaFuZ-0",
        "outputId": "57bb9837-6c98-44c6-c5c1-8cf96f9e9b89"
      },
      "outputs": [
        {
          "output_type": "stream",
          "name": "stdout",
          "text": [
            "[4 6]\n"
          ]
        }
      ],
      "source": [
        "print(y.sum(axis=0)) #column wise sum"
      ]
    },
    {
      "cell_type": "code",
      "execution_count": null,
      "metadata": {
        "colab": {
          "base_uri": "https://localhost:8080/"
        },
        "id": "P2CEJgJ8uZ-0",
        "outputId": "ea52932c-2183-45a3-8acc-ef0aa1490e39"
      },
      "outputs": [
        {
          "output_type": "stream",
          "name": "stdout",
          "text": [
            "[3 7]\n"
          ]
        }
      ],
      "source": [
        "print(y.sum(axis=1)) #row wise sum"
      ]
    },
    {
      "cell_type": "markdown",
      "metadata": {
        "id": "Psp47-hVuZ-0"
      },
      "source": [
        "#### other reductions"
      ]
    },
    {
      "cell_type": "code",
      "execution_count": null,
      "metadata": {
        "colab": {
          "base_uri": "https://localhost:8080/"
        },
        "id": "hKSgE9M-uZ-1",
        "outputId": "208abef1-6e0d-477a-9236-5b07b5e3bc07"
      },
      "outputs": [
        {
          "output_type": "stream",
          "name": "stdout",
          "text": [
            "1\n"
          ]
        }
      ],
      "source": [
        "print(y.min())"
      ]
    },
    {
      "cell_type": "code",
      "execution_count": null,
      "metadata": {
        "colab": {
          "base_uri": "https://localhost:8080/"
        },
        "id": "SJOkMVIvuZ-1",
        "outputId": "d5ae7c72-022a-466d-b35d-c72216f57b46"
      },
      "outputs": [
        {
          "output_type": "stream",
          "name": "stdout",
          "text": [
            "4\n"
          ]
        }
      ],
      "source": [
        "print(y.max())"
      ]
    },
    {
      "cell_type": "code",
      "execution_count": null,
      "metadata": {
        "colab": {
          "base_uri": "https://localhost:8080/"
        },
        "id": "sPF-K3kauZ-1",
        "outputId": "eedcea15-f612-45f8-ad7b-525048e84def"
      },
      "outputs": [
        {
          "output_type": "stream",
          "name": "stdout",
          "text": [
            "0\n"
          ]
        }
      ],
      "source": [
        "print(y.argmin()) #index of minimum element"
      ]
    },
    {
      "cell_type": "code",
      "execution_count": null,
      "metadata": {
        "colab": {
          "base_uri": "https://localhost:8080/"
        },
        "id": "rLsYhB5-uZ-2",
        "outputId": "e3b9cc2e-e428-4609-f04e-60a0d2300e66"
      },
      "outputs": [
        {
          "output_type": "stream",
          "name": "stdout",
          "text": [
            "3\n"
          ]
        }
      ],
      "source": [
        "print(y.argmax()) #index of maximum element"
      ]
    },
    {
      "cell_type": "markdown",
      "metadata": {
        "id": "C2nqBzaTuZ-2"
      },
      "source": [
        "#### Logical reductions"
      ]
    },
    {
      "cell_type": "code",
      "execution_count": null,
      "metadata": {
        "colab": {
          "base_uri": "https://localhost:8080/"
        },
        "id": "I4n7IHWauZ-3",
        "outputId": "0720d321-15be-4802-bd61-b7cc9886e2df"
      },
      "outputs": [
        {
          "output_type": "stream",
          "name": "stdout",
          "text": [
            "False\n"
          ]
        }
      ],
      "source": [
        "print(np.all([True, False, False])) #logical and"
      ]
    },
    {
      "cell_type": "code",
      "execution_count": null,
      "metadata": {
        "colab": {
          "base_uri": "https://localhost:8080/"
        },
        "id": "vXnY6rn-uZ-3",
        "outputId": "f06a6258-7120-4f7f-a2fd-725bf66b6178"
      },
      "outputs": [
        {
          "output_type": "stream",
          "name": "stdout",
          "text": [
            "True\n"
          ]
        }
      ],
      "source": [
        "print(np.any([True, False, False])) #logical or"
      ]
    },
    {
      "cell_type": "code",
      "execution_count": null,
      "metadata": {
        "colab": {
          "base_uri": "https://localhost:8080/"
        },
        "id": "2074hNBDuZ-4",
        "outputId": "b3090652-0223-4ce0-cf70-a3125e5b6b02"
      },
      "outputs": [
        {
          "output_type": "stream",
          "name": "stdout",
          "text": [
            "False\n"
          ]
        }
      ],
      "source": [
        "a = np.zeros((50,50))\n",
        "\n",
        "print(np.any(a!=0)) #checks whether any element in a is not equal to zero"
      ]
    },
    {
      "cell_type": "markdown",
      "metadata": {
        "id": "4Iu9yuuRuZ-4"
      },
      "source": [
        "#### Statistics"
      ]
    },
    {
      "cell_type": "code",
      "execution_count": null,
      "metadata": {
        "colab": {
          "base_uri": "https://localhost:8080/"
        },
        "id": "qkJijSYmuZ-5",
        "outputId": "d6ddfa13-6053-4db4-b070-0e3e0493eebb"
      },
      "outputs": [
        {
          "output_type": "stream",
          "name": "stdout",
          "text": [
            "5.0\n"
          ]
        }
      ],
      "source": [
        "x = np.arange(1,10)\n",
        "\n",
        "print(np.mean(x))"
      ]
    },
    {
      "cell_type": "code",
      "execution_count": null,
      "metadata": {
        "colab": {
          "base_uri": "https://localhost:8080/"
        },
        "id": "INS15uubuZ-5",
        "outputId": "90efb847-0539-411e-a8b8-d8bf0fb73758"
      },
      "outputs": [
        {
          "output_type": "stream",
          "name": "stdout",
          "text": [
            "5.0\n"
          ]
        }
      ],
      "source": [
        "print(np.median(x))"
      ]
    },
    {
      "cell_type": "code",
      "execution_count": null,
      "metadata": {
        "colab": {
          "base_uri": "https://localhost:8080/"
        },
        "id": "veOk4BQKuZ-6",
        "outputId": "308a3306-f967-49ee-bebd-3ae985bc8574"
      },
      "outputs": [
        {
          "output_type": "stream",
          "name": "stdout",
          "text": [
            "[2.5 3.5 4.5]\n",
            "[2. 5.]\n"
          ]
        }
      ],
      "source": [
        "y = np.array([[1,2,3],[4,5,6]])\n",
        "\n",
        "print(np.mean(y,axis=0)) #column wise mean\n",
        "print(np.mean(y,axis=1)) #row wise mean"
      ]
    },
    {
      "cell_type": "code",
      "execution_count": null,
      "metadata": {
        "colab": {
          "base_uri": "https://localhost:8080/"
        },
        "id": "TatTgZEuuZ-6",
        "outputId": "db1f074b-2c6d-4419-9856-ae2df1c15a77"
      },
      "outputs": [
        {
          "output_type": "stream",
          "name": "stdout",
          "text": [
            "2.581988897471611\n"
          ]
        }
      ],
      "source": [
        "print(np.std(x))"
      ]
    },
    {
      "cell_type": "markdown",
      "metadata": {
        "id": "pKmGAxG8uZ_F"
      },
      "source": [
        "#### Example:"
      ]
    },
    {
      "cell_type": "code",
      "execution_count": null,
      "metadata": {
        "colab": {
          "base_uri": "https://localhost:8080/",
          "height": 287
        },
        "id": "5rxdi42UuZ_G",
        "outputId": "2a5e12cb-2181-4012-c3e5-5dfb9392b647"
      },
      "outputs": [
        {
          "output_type": "error",
          "ename": "FileNotFoundError",
          "evalue": "dataset/populations.txt not found.",
          "traceback": [
            "\u001b[0;31m---------------------------------------------------------------------------\u001b[0m",
            "\u001b[0;31mFileNotFoundError\u001b[0m                         Traceback (most recent call last)",
            "\u001b[0;32m<ipython-input-83-fe63850b1259>\u001b[0m in \u001b[0;36m<cell line: 1>\u001b[0;34m()\u001b[0m\n\u001b[0;32m----> 1\u001b[0;31m \u001b[0mdata\u001b[0m \u001b[0;34m=\u001b[0m \u001b[0mnp\u001b[0m\u001b[0;34m.\u001b[0m\u001b[0mloadtxt\u001b[0m\u001b[0;34m(\u001b[0m\u001b[0;34m\"dataset/populations.txt\"\u001b[0m\u001b[0;34m)\u001b[0m\u001b[0;34m\u001b[0m\u001b[0;34m\u001b[0m\u001b[0m\n\u001b[0m",
            "\u001b[0;32m/usr/local/lib/python3.10/dist-packages/numpy/lib/npyio.py\u001b[0m in \u001b[0;36mloadtxt\u001b[0;34m(fname, dtype, comments, delimiter, converters, skiprows, usecols, unpack, ndmin, encoding, max_rows, quotechar, like)\u001b[0m\n\u001b[1;32m   1371\u001b[0m         \u001b[0mdelimiter\u001b[0m \u001b[0;34m=\u001b[0m \u001b[0mdelimiter\u001b[0m\u001b[0;34m.\u001b[0m\u001b[0mdecode\u001b[0m\u001b[0;34m(\u001b[0m\u001b[0;34m'latin1'\u001b[0m\u001b[0;34m)\u001b[0m\u001b[0;34m\u001b[0m\u001b[0;34m\u001b[0m\u001b[0m\n\u001b[1;32m   1372\u001b[0m \u001b[0;34m\u001b[0m\u001b[0m\n\u001b[0;32m-> 1373\u001b[0;31m     arr = _read(fname, dtype=dtype, comment=comment, delimiter=delimiter,\n\u001b[0m\u001b[1;32m   1374\u001b[0m                 \u001b[0mconverters\u001b[0m\u001b[0;34m=\u001b[0m\u001b[0mconverters\u001b[0m\u001b[0;34m,\u001b[0m \u001b[0mskiplines\u001b[0m\u001b[0;34m=\u001b[0m\u001b[0mskiprows\u001b[0m\u001b[0;34m,\u001b[0m \u001b[0musecols\u001b[0m\u001b[0;34m=\u001b[0m\u001b[0musecols\u001b[0m\u001b[0;34m,\u001b[0m\u001b[0;34m\u001b[0m\u001b[0;34m\u001b[0m\u001b[0m\n\u001b[1;32m   1375\u001b[0m                 \u001b[0munpack\u001b[0m\u001b[0;34m=\u001b[0m\u001b[0munpack\u001b[0m\u001b[0;34m,\u001b[0m \u001b[0mndmin\u001b[0m\u001b[0;34m=\u001b[0m\u001b[0mndmin\u001b[0m\u001b[0;34m,\u001b[0m \u001b[0mencoding\u001b[0m\u001b[0;34m=\u001b[0m\u001b[0mencoding\u001b[0m\u001b[0;34m,\u001b[0m\u001b[0;34m\u001b[0m\u001b[0;34m\u001b[0m\u001b[0m\n",
            "\u001b[0;32m/usr/local/lib/python3.10/dist-packages/numpy/lib/npyio.py\u001b[0m in \u001b[0;36m_read\u001b[0;34m(fname, delimiter, comment, quote, imaginary_unit, usecols, skiplines, max_rows, converters, ndmin, unpack, dtype, encoding)\u001b[0m\n\u001b[1;32m    990\u001b[0m             \u001b[0mfname\u001b[0m \u001b[0;34m=\u001b[0m \u001b[0mos\u001b[0m\u001b[0;34m.\u001b[0m\u001b[0mfspath\u001b[0m\u001b[0;34m(\u001b[0m\u001b[0mfname\u001b[0m\u001b[0;34m)\u001b[0m\u001b[0;34m\u001b[0m\u001b[0;34m\u001b[0m\u001b[0m\n\u001b[1;32m    991\u001b[0m         \u001b[0;32mif\u001b[0m \u001b[0misinstance\u001b[0m\u001b[0;34m(\u001b[0m\u001b[0mfname\u001b[0m\u001b[0;34m,\u001b[0m \u001b[0mstr\u001b[0m\u001b[0;34m)\u001b[0m\u001b[0;34m:\u001b[0m\u001b[0;34m\u001b[0m\u001b[0;34m\u001b[0m\u001b[0m\n\u001b[0;32m--> 992\u001b[0;31m             \u001b[0mfh\u001b[0m \u001b[0;34m=\u001b[0m \u001b[0mnp\u001b[0m\u001b[0;34m.\u001b[0m\u001b[0mlib\u001b[0m\u001b[0;34m.\u001b[0m\u001b[0m_datasource\u001b[0m\u001b[0;34m.\u001b[0m\u001b[0mopen\u001b[0m\u001b[0;34m(\u001b[0m\u001b[0mfname\u001b[0m\u001b[0;34m,\u001b[0m \u001b[0;34m'rt'\u001b[0m\u001b[0;34m,\u001b[0m \u001b[0mencoding\u001b[0m\u001b[0;34m=\u001b[0m\u001b[0mencoding\u001b[0m\u001b[0;34m)\u001b[0m\u001b[0;34m\u001b[0m\u001b[0;34m\u001b[0m\u001b[0m\n\u001b[0m\u001b[1;32m    993\u001b[0m             \u001b[0;32mif\u001b[0m \u001b[0mencoding\u001b[0m \u001b[0;32mis\u001b[0m \u001b[0;32mNone\u001b[0m\u001b[0;34m:\u001b[0m\u001b[0;34m\u001b[0m\u001b[0;34m\u001b[0m\u001b[0m\n\u001b[1;32m    994\u001b[0m                 \u001b[0mencoding\u001b[0m \u001b[0;34m=\u001b[0m \u001b[0mgetattr\u001b[0m\u001b[0;34m(\u001b[0m\u001b[0mfh\u001b[0m\u001b[0;34m,\u001b[0m \u001b[0;34m'encoding'\u001b[0m\u001b[0;34m,\u001b[0m \u001b[0;34m'latin1'\u001b[0m\u001b[0;34m)\u001b[0m\u001b[0;34m\u001b[0m\u001b[0;34m\u001b[0m\u001b[0m\n",
            "\u001b[0;32m/usr/local/lib/python3.10/dist-packages/numpy/lib/_datasource.py\u001b[0m in \u001b[0;36mopen\u001b[0;34m(path, mode, destpath, encoding, newline)\u001b[0m\n\u001b[1;32m    191\u001b[0m \u001b[0;34m\u001b[0m\u001b[0m\n\u001b[1;32m    192\u001b[0m     \u001b[0mds\u001b[0m \u001b[0;34m=\u001b[0m \u001b[0mDataSource\u001b[0m\u001b[0;34m(\u001b[0m\u001b[0mdestpath\u001b[0m\u001b[0;34m)\u001b[0m\u001b[0;34m\u001b[0m\u001b[0;34m\u001b[0m\u001b[0m\n\u001b[0;32m--> 193\u001b[0;31m     \u001b[0;32mreturn\u001b[0m \u001b[0mds\u001b[0m\u001b[0;34m.\u001b[0m\u001b[0mopen\u001b[0m\u001b[0;34m(\u001b[0m\u001b[0mpath\u001b[0m\u001b[0;34m,\u001b[0m \u001b[0mmode\u001b[0m\u001b[0;34m,\u001b[0m \u001b[0mencoding\u001b[0m\u001b[0;34m=\u001b[0m\u001b[0mencoding\u001b[0m\u001b[0;34m,\u001b[0m \u001b[0mnewline\u001b[0m\u001b[0;34m=\u001b[0m\u001b[0mnewline\u001b[0m\u001b[0;34m)\u001b[0m\u001b[0;34m\u001b[0m\u001b[0;34m\u001b[0m\u001b[0m\n\u001b[0m\u001b[1;32m    194\u001b[0m \u001b[0;34m\u001b[0m\u001b[0m\n\u001b[1;32m    195\u001b[0m \u001b[0;34m\u001b[0m\u001b[0m\n",
            "\u001b[0;32m/usr/local/lib/python3.10/dist-packages/numpy/lib/_datasource.py\u001b[0m in \u001b[0;36mopen\u001b[0;34m(self, path, mode, encoding, newline)\u001b[0m\n\u001b[1;32m    531\u001b[0m                                       encoding=encoding, newline=newline)\n\u001b[1;32m    532\u001b[0m         \u001b[0;32melse\u001b[0m\u001b[0;34m:\u001b[0m\u001b[0;34m\u001b[0m\u001b[0;34m\u001b[0m\u001b[0m\n\u001b[0;32m--> 533\u001b[0;31m             \u001b[0;32mraise\u001b[0m \u001b[0mFileNotFoundError\u001b[0m\u001b[0;34m(\u001b[0m\u001b[0;34mf\"{path} not found.\"\u001b[0m\u001b[0;34m)\u001b[0m\u001b[0;34m\u001b[0m\u001b[0;34m\u001b[0m\u001b[0m\n\u001b[0m\u001b[1;32m    534\u001b[0m \u001b[0;34m\u001b[0m\u001b[0m\n\u001b[1;32m    535\u001b[0m \u001b[0;34m\u001b[0m\u001b[0m\n",
            "\u001b[0;31mFileNotFoundError\u001b[0m: dataset/populations.txt not found."
          ]
        }
      ],
      "source": [
        "data = np.loadtxt(\"dataset/populations.txt\")"
      ]
    },
    {
      "cell_type": "code",
      "execution_count": null,
      "metadata": {
        "colab": {
          "base_uri": "https://localhost:8080/",
          "height": 141
        },
        "id": "FnbgtRR-uZ_G",
        "outputId": "d099a4cc-8069-4d9e-bc1e-6e9cf6b8f847"
      },
      "outputs": [
        {
          "output_type": "error",
          "ename": "NameError",
          "evalue": "name 'data' is not defined",
          "traceback": [
            "\u001b[0;31m---------------------------------------------------------------------------\u001b[0m",
            "\u001b[0;31mNameError\u001b[0m                                 Traceback (most recent call last)",
            "\u001b[0;32m<ipython-input-85-dbd883db58b7>\u001b[0m in \u001b[0;36m<cell line: 1>\u001b[0;34m()\u001b[0m\n\u001b[0;32m----> 1\u001b[0;31m \u001b[0mprint\u001b[0m\u001b[0;34m(\u001b[0m\u001b[0mdata\u001b[0m\u001b[0;34m)\u001b[0m\u001b[0;34m\u001b[0m\u001b[0;34m\u001b[0m\u001b[0m\n\u001b[0m",
            "\u001b[0;31mNameError\u001b[0m: name 'data' is not defined"
          ]
        }
      ],
      "source": [
        "print(data)"
      ]
    },
    {
      "cell_type": "code",
      "execution_count": null,
      "metadata": {
        "id": "xCR9gDN3uZ_G"
      },
      "outputs": [],
      "source": [
        "data.shape"
      ]
    },
    {
      "cell_type": "code",
      "execution_count": null,
      "metadata": {
        "id": "g5K7yxbKuZ_H"
      },
      "outputs": [],
      "source": [
        "year, hare, lynx, carrot = data.T"
      ]
    },
    {
      "cell_type": "code",
      "execution_count": null,
      "metadata": {
        "id": "yRPiQtbPuZ_H"
      },
      "outputs": [],
      "source": [
        "print(year)"
      ]
    },
    {
      "cell_type": "code",
      "execution_count": null,
      "metadata": {
        "id": "WX5vBaupuZ_H"
      },
      "outputs": [],
      "source": [
        "populations = data[:,1:]"
      ]
    },
    {
      "cell_type": "code",
      "execution_count": null,
      "metadata": {
        "id": "iunafSAWuZ_H"
      },
      "outputs": [],
      "source": [
        "print(populations)"
      ]
    },
    {
      "cell_type": "code",
      "execution_count": null,
      "metadata": {
        "id": "tmU3kLYEuZ_I"
      },
      "outputs": [],
      "source": [
        "populations.std(axis=0)"
      ]
    },
    {
      "cell_type": "code",
      "execution_count": null,
      "metadata": {
        "id": "k8TTpICZuZ_I"
      },
      "outputs": [],
      "source": [
        "populations.mean(axis=0)"
      ]
    },
    {
      "cell_type": "code",
      "execution_count": null,
      "metadata": {
        "id": "UjMPR-jauZ_I"
      },
      "outputs": [],
      "source": [
        "#which species has the highest population each year\n",
        "\n",
        "print(np.argmax(populations, axis=1))"
      ]
    },
    {
      "cell_type": "markdown",
      "metadata": {
        "id": "7wt8qCItuZ_I"
      },
      "source": [
        "## 9. Broadcasting"
      ]
    },
    {
      "cell_type": "code",
      "execution_count": null,
      "metadata": {
        "id": "mLiLXuofuZ_J"
      },
      "outputs": [],
      "source": [
        "from IPython.display import Image\n",
        "\n",
        "Image(\"photos/broadcasting.PNG\")"
      ]
    },
    {
      "cell_type": "code",
      "execution_count": null,
      "metadata": {
        "id": "B7hAnXBGuZ_J",
        "colab": {
          "base_uri": "https://localhost:8080/"
        },
        "outputId": "7e6ea7df-b659-4ceb-bee7-2f0616d3fff5"
      },
      "outputs": [
        {
          "output_type": "stream",
          "name": "stdout",
          "text": [
            "[[ 0 10 20 30]\n",
            " [ 0 10 20 30]\n",
            " [ 0 10 20 30]]\n",
            "****************************************************************************************************\n",
            "[[ 0  0  0]\n",
            " [10 10 10]\n",
            " [20 20 20]\n",
            " [30 30 30]]\n"
          ]
        }
      ],
      "source": [
        "a = np.tile(np.arange(0, 40, 10),(3,1)) #replicate rows 3 times and columns 1 time # change columns\n",
        "print(a)\n",
        "print(\"*\"*100)\n",
        "\n",
        "a = a.T\n",
        "print(a)"
      ]
    },
    {
      "cell_type": "code",
      "execution_count": null,
      "metadata": {
        "id": "NLb63D2WuZ_J",
        "colab": {
          "base_uri": "https://localhost:8080/"
        },
        "outputId": "75160bfc-ee65-4cca-c81e-045f381a0fae"
      },
      "outputs": [
        {
          "output_type": "stream",
          "name": "stdout",
          "text": [
            "[0 1 2]\n"
          ]
        }
      ],
      "source": [
        "b = np.array([0,1,2])\n",
        "\n",
        "print(b)"
      ]
    },
    {
      "cell_type": "code",
      "execution_count": null,
      "metadata": {
        "id": "MW1scveHuZ_J",
        "colab": {
          "base_uri": "https://localhost:8080/"
        },
        "outputId": "274561fe-feaa-4e3d-fdd7-f4e86ee3e38f"
      },
      "outputs": [
        {
          "output_type": "stream",
          "name": "stdout",
          "text": [
            "[[ 0  1  2]\n",
            " [10 11 12]\n",
            " [20 21 22]\n",
            " [30 31 32]]\n"
          ]
        }
      ],
      "source": [
        "c = a + b\n",
        "\n",
        "print(c)"
      ]
    },
    {
      "cell_type": "code",
      "execution_count": null,
      "metadata": {
        "id": "A6HzGIZCuZ_K",
        "colab": {
          "base_uri": "https://localhost:8080/"
        },
        "outputId": "a8e2342d-34a1-41d5-a832-1ddd281baecd"
      },
      "outputs": [
        {
          "output_type": "stream",
          "name": "stdout",
          "text": [
            "(4,)\n"
          ]
        }
      ],
      "source": [
        "a = np.arange(0,40,10)\n",
        "print(a.shape)"
      ]
    },
    {
      "cell_type": "code",
      "execution_count": null,
      "metadata": {
        "id": "_2dkPniNuZ_K",
        "colab": {
          "base_uri": "https://localhost:8080/"
        },
        "outputId": "5824ae95-22ec-43a4-f3c6-8933450e7397"
      },
      "outputs": [
        {
          "output_type": "stream",
          "name": "stdout",
          "text": [
            "(4, 1)\n"
          ]
        }
      ],
      "source": [
        "a = a[:, np.newaxis] #adds a new axis\n",
        "print(a.shape)"
      ]
    },
    {
      "cell_type": "code",
      "execution_count": null,
      "metadata": {
        "id": "O3QYg05RuZ_K",
        "colab": {
          "base_uri": "https://localhost:8080/"
        },
        "outputId": "f4a614ff-9626-462d-9495-bf43c8141fea"
      },
      "outputs": [
        {
          "output_type": "stream",
          "name": "stdout",
          "text": [
            "[[ 0]\n",
            " [10]\n",
            " [20]\n",
            " [30]]\n"
          ]
        }
      ],
      "source": [
        "print(a)"
      ]
    },
    {
      "cell_type": "code",
      "execution_count": null,
      "metadata": {
        "id": "WJURMjmNuZ_L",
        "colab": {
          "base_uri": "https://localhost:8080/"
        },
        "outputId": "823715a0-b772-4ef9-8b37-46382c4537c0"
      },
      "outputs": [
        {
          "output_type": "stream",
          "name": "stdout",
          "text": [
            "[[ 0  1  2]\n",
            " [10 11 12]\n",
            " [20 21 22]\n",
            " [30 31 32]]\n"
          ]
        }
      ],
      "source": [
        "print(a+b)"
      ]
    },
    {
      "cell_type": "markdown",
      "metadata": {
        "id": "VXU3EQ59uZ_L"
      },
      "source": [
        "## 10. Array Manipulation"
      ]
    },
    {
      "cell_type": "markdown",
      "metadata": {
        "id": "ztGWJz0-uZ_L"
      },
      "source": [
        "### 10.1. Flattening"
      ]
    },
    {
      "cell_type": "code",
      "execution_count": null,
      "metadata": {
        "id": "yCwicQ60uZ_L",
        "colab": {
          "base_uri": "https://localhost:8080/"
        },
        "outputId": "ff0461a9-df6e-401f-c20f-35d6753c2c09"
      },
      "outputs": [
        {
          "output_type": "stream",
          "name": "stdout",
          "text": [
            "[[1 2 3]\n",
            " [4 5 6]]\n"
          ]
        }
      ],
      "source": [
        "a = np.array([[1,2,3],[4,5,6]])\n",
        "print(a)"
      ]
    },
    {
      "cell_type": "code",
      "execution_count": null,
      "metadata": {
        "id": "BjRwP92_uZ_M",
        "colab": {
          "base_uri": "https://localhost:8080/"
        },
        "outputId": "785fbf9e-2bad-42d1-de8e-b419f99614ad"
      },
      "outputs": [
        {
          "output_type": "stream",
          "name": "stdout",
          "text": [
            "[1 2 3 4 5 6]\n"
          ]
        }
      ],
      "source": [
        "print(a.ravel())"
      ]
    },
    {
      "cell_type": "code",
      "execution_count": null,
      "metadata": {
        "id": "g3NDt4xcuZ_M",
        "colab": {
          "base_uri": "https://localhost:8080/"
        },
        "outputId": "2dca0dec-c2c1-4103-95a1-9f7040567f4a"
      },
      "outputs": [
        {
          "output_type": "stream",
          "name": "stdout",
          "text": [
            "[[1 4]\n",
            " [2 5]\n",
            " [3 6]]\n"
          ]
        }
      ],
      "source": [
        "print(a.T)"
      ]
    },
    {
      "cell_type": "code",
      "execution_count": null,
      "metadata": {
        "id": "O5JfGRkSuZ_M",
        "colab": {
          "base_uri": "https://localhost:8080/"
        },
        "outputId": "2f6946e3-36d1-482c-9d51-fefbf38184b0"
      },
      "outputs": [
        {
          "output_type": "stream",
          "name": "stdout",
          "text": [
            "[1 4 2 5 3 6]\n"
          ]
        }
      ],
      "source": [
        "print(a.T.ravel())"
      ]
    },
    {
      "cell_type": "markdown",
      "metadata": {
        "id": "XuuUVqGCuZ_M"
      },
      "source": [
        "### 10.2. Reshaping"
      ]
    },
    {
      "cell_type": "code",
      "execution_count": null,
      "metadata": {
        "id": "oyQATbyluZ_M",
        "colab": {
          "base_uri": "https://localhost:8080/"
        },
        "outputId": "02b045cf-5a4b-4ba1-a9ab-faef4f9de3cc"
      },
      "outputs": [
        {
          "output_type": "stream",
          "name": "stdout",
          "text": [
            "(2, 3)\n"
          ]
        }
      ],
      "source": [
        "print(a.shape)"
      ]
    },
    {
      "cell_type": "code",
      "execution_count": null,
      "metadata": {
        "id": "OfKvGlEguZ_N",
        "colab": {
          "base_uri": "https://localhost:8080/"
        },
        "outputId": "9ca8ce4e-abeb-41ff-af03-805f8a0eb0bf"
      },
      "outputs": [
        {
          "output_type": "stream",
          "name": "stdout",
          "text": [
            "(6,)\n"
          ]
        }
      ],
      "source": [
        "b = a.ravel()\n",
        "print(b.shape)"
      ]
    },
    {
      "cell_type": "code",
      "execution_count": null,
      "metadata": {
        "id": "grOFCuUYuZ_N",
        "colab": {
          "base_uri": "https://localhost:8080/"
        },
        "outputId": "5f86d5d4-d2e0-479d-d140-b8b8fa4e0c2e"
      },
      "outputs": [
        {
          "output_type": "stream",
          "name": "stdout",
          "text": [
            "(2, 3)\n"
          ]
        }
      ],
      "source": [
        "b = b.reshape(2,3)\n",
        "print(b.shape)"
      ]
    },
    {
      "cell_type": "markdown",
      "metadata": {
        "id": "F93aYUChuZ_N"
      },
      "source": [
        "### 10.3. Adding a new dimension"
      ]
    },
    {
      "cell_type": "code",
      "execution_count": null,
      "metadata": {
        "id": "QTtFmN0SuZ_N",
        "colab": {
          "base_uri": "https://localhost:8080/"
        },
        "outputId": "c8bafaa0-bfb6-4451-ecde-070168d185a6"
      },
      "outputs": [
        {
          "output_type": "stream",
          "name": "stdout",
          "text": [
            "(5,)\n"
          ]
        }
      ],
      "source": [
        "z = np.arange(1,10,2)\n",
        "print(z.shape)"
      ]
    },
    {
      "cell_type": "code",
      "execution_count": null,
      "metadata": {
        "id": "dZFvZVkBuZ_O",
        "colab": {
          "base_uri": "https://localhost:8080/"
        },
        "outputId": "2e90fcbf-1fd4-4af9-873e-547ce6e32547"
      },
      "outputs": [
        {
          "output_type": "stream",
          "name": "stdout",
          "text": [
            "(5, 1)\n"
          ]
        }
      ],
      "source": [
        "z = z[:,np.newaxis]\n",
        "print(z.shape)"
      ]
    },
    {
      "cell_type": "code",
      "execution_count": null,
      "metadata": {
        "id": "Nat864zSuZ_O",
        "colab": {
          "base_uri": "https://localhost:8080/"
        },
        "outputId": "c943b220-8efb-4616-8b53-0c1c6ac3cd51"
      },
      "outputs": [
        {
          "output_type": "stream",
          "name": "stdout",
          "text": [
            "(5, 1, 1)\n"
          ]
        }
      ],
      "source": [
        "z = z[:,np.newaxis]\n",
        "print(z.shape)"
      ]
    },
    {
      "cell_type": "markdown",
      "metadata": {
        "id": "wxE3Zd93uZ_O"
      },
      "source": [
        "### 10.4. Dimension Shuffling"
      ]
    },
    {
      "cell_type": "code",
      "execution_count": null,
      "metadata": {
        "id": "cYT7JaCzuZ_P",
        "colab": {
          "base_uri": "https://localhost:8080/"
        },
        "outputId": "9d08c2c0-c6cf-4bd1-f4f4-dece8b375b87"
      },
      "outputs": [
        {
          "output_type": "stream",
          "name": "stdout",
          "text": [
            "[ 0  1  2  3  4  5  6  7  8  9 10 11 12 13 14 15 16 17 18 19 20 21 22 23]\n"
          ]
        }
      ],
      "source": [
        "a = np.arange(4*3*2)\n",
        "print(a)"
      ]
    },
    {
      "cell_type": "code",
      "execution_count": null,
      "metadata": {
        "id": "zcFLy2C4uZ_P",
        "colab": {
          "base_uri": "https://localhost:8080/"
        },
        "outputId": "290e7749-6341-4ffe-b1d0-35d3546b017e"
      },
      "outputs": [
        {
          "output_type": "stream",
          "name": "stdout",
          "text": [
            "[[[ 0  1]\n",
            "  [ 2  3]\n",
            "  [ 4  5]]\n",
            "\n",
            " [[ 6  7]\n",
            "  [ 8  9]\n",
            "  [10 11]]\n",
            "\n",
            " [[12 13]\n",
            "  [14 15]\n",
            "  [16 17]]\n",
            "\n",
            " [[18 19]\n",
            "  [20 21]\n",
            "  [22 23]]]\n"
          ]
        }
      ],
      "source": [
        "a = a.reshape(4,3,2) # 4 matrices of 3 rows and 2 columns each\n",
        "print(a)"
      ]
    },
    {
      "cell_type": "code",
      "execution_count": null,
      "metadata": {
        "id": "bo7XZziruZ_P",
        "colab": {
          "base_uri": "https://localhost:8080/"
        },
        "outputId": "1a1de286-93f8-485b-ea83-912eed471f07"
      },
      "outputs": [
        {
          "output_type": "execute_result",
          "data": {
            "text/plain": [
              "21"
            ]
          },
          "metadata": {},
          "execution_count": 37
        }
      ],
      "source": [
        "a[3,1,1]"
      ]
    },
    {
      "cell_type": "markdown",
      "metadata": {
        "id": "Wrx_7ZU8uZ_Q"
      },
      "source": [
        "### 10.5. Resizing"
      ]
    },
    {
      "cell_type": "code",
      "execution_count": null,
      "metadata": {
        "id": "UDJ_ngtnuZ_Q"
      },
      "outputs": [],
      "source": [
        "a = np.arange(5)\n",
        "a.resize((10,))"
      ]
    },
    {
      "cell_type": "markdown",
      "metadata": {
        "id": "UWXbt6cAuZ_Q"
      },
      "source": [
        "### 10.6. Sorting"
      ]
    },
    {
      "cell_type": "code",
      "execution_count": null,
      "metadata": {
        "id": "S7_V74J-uZ_Q"
      },
      "outputs": [],
      "source": [
        "a = np.array([[5,4,3],[2,1,9]])\n",
        "print(a)"
      ]
    },
    {
      "cell_type": "code",
      "execution_count": null,
      "metadata": {
        "id": "ROlmPw_EuZ_R"
      },
      "outputs": [],
      "source": [
        "b = np.sort(a, axis=1)\n",
        "print(b)"
      ]
    },
    {
      "cell_type": "code",
      "execution_count": null,
      "metadata": {
        "id": "rbc4n3Z3uZ_R"
      },
      "outputs": [],
      "source": [
        "c = np.sort(a, axis=0)\n",
        "print(c)"
      ]
    },
    {
      "cell_type": "code",
      "execution_count": null,
      "metadata": {
        "id": "IL5fAIkzuZ_R"
      },
      "outputs": [],
      "source": [
        "d = a.ravel()\n",
        "print(d)"
      ]
    },
    {
      "cell_type": "code",
      "execution_count": null,
      "metadata": {
        "id": "CzVulsP6uZ_R"
      },
      "outputs": [],
      "source": [
        "print(np.sort(d))"
      ]
    },
    {
      "cell_type": "markdown",
      "metadata": {
        "id": "aoAx-SRhuZ_R"
      },
      "source": [
        "## 11. Exercises  \n",
        "\n",
        "*(Type you code in the below cell)*"
      ]
    },
    {
      "cell_type": "markdown",
      "metadata": {
        "id": "Nn-epmK3uZ_S"
      },
      "source": [
        "1. **Write a NumPy program to convert a list of numeric value into a one-dimensional NumPy array.**\n",
        "\n",
        "*Expected Output:*\n",
        "\n",
        "Original List: [12.23, 13.32, 100, 36.32]\n",
        "\n",
        "One-dimensional NumPy array: [ 12.23 13.32 100. 36.32]\n"
      ]
    },
    {
      "cell_type": "code",
      "execution_count": null,
      "metadata": {
        "id": "hqN7-aRLuZ_S",
        "colab": {
          "base_uri": "https://localhost:8080/"
        },
        "outputId": "73dd2151-3891-4934-b7f6-50d34df55137"
      },
      "outputs": [
        {
          "output_type": "execute_result",
          "data": {
            "text/plain": [
              "array([ 12.23,  13.32, 100.  ,  36.32])"
            ]
          },
          "metadata": {},
          "execution_count": 2
        }
      ],
      "source": [
        "import numpy as np\n",
        "a=np.array([12.23,13.32,100,36.32])\n",
        "a"
      ]
    },
    {
      "cell_type": "markdown",
      "metadata": {
        "id": "agRfqDCAuZ_S"
      },
      "source": [
        "2. **Write a NumPy program to create a 3x3 matrix with values ranging from 2 to 10.**\n",
        "\n",
        "*Expected Output:*\n",
        "\n",
        "[[ 2 3 4]\n",
        "[ 5 6 7]\n",
        "[ 8 9 10]]"
      ]
    },
    {
      "cell_type": "code",
      "execution_count": null,
      "metadata": {
        "id": "reOvkuVKuZ_S"
      },
      "outputs": [],
      "source": []
    },
    {
      "cell_type": "markdown",
      "metadata": {
        "id": "CoTj_TWauZ_T"
      },
      "source": [
        "3. *Write a NumPy program to sort an along the first, last axis of an array.**\n",
        "\n",
        "Sample array: [[2,5],[4,4]]\n",
        "    \n",
        "*Expected Output:*\n",
        "    \n",
        "Original array:\n",
        "[[4 6]\n",
        "[2 1]]\n",
        "\n",
        "Sort along the first axis:\n",
        "[[2 1]\n",
        "[4 6]]\n",
        "\n",
        "Sort along the last axis:\n",
        "[[1 2]\n",
        "[4 6]]"
      ]
    },
    {
      "cell_type": "code",
      "execution_count": null,
      "metadata": {
        "id": "OFW9TVQPuZ_T"
      },
      "outputs": [],
      "source": []
    },
    {
      "cell_type": "markdown",
      "metadata": {
        "id": "gFVnTE5luZ_T"
      },
      "source": [
        "4. **Write a NumPy program to create a contiguous flattened array.**\n",
        "\n",
        "*Expected Output:*\n",
        "\n",
        "Original array:\n",
        "[[10 20 30]\n",
        "[20 40 50]]\n",
        "\n",
        "New flattened array:\n",
        "[10 20 30 20 40 50]"
      ]
    },
    {
      "cell_type": "code",
      "execution_count": null,
      "metadata": {
        "id": "RXpGEfy-uZ_T"
      },
      "outputs": [],
      "source": []
    },
    {
      "cell_type": "markdown",
      "metadata": {
        "id": "QA0DlV0VuZ_U"
      },
      "source": [
        " 5. **Write a NumPy program to display all the dates for the month of March, 2017.**\n",
        "\n",
        "*Expected Output:*\n",
        "\n",
        "March, 2017\n",
        "\n",
        "['2017-03-01' '2017-03-02' '2017-03-03' '2017-03-04' '2017-03-05'\n",
        "'2017-03-06' '2017-03-07' '2017-03-08' '2017-03-09' '2017-03-10'\n",
        "'2017-03-11' '2017-03-12' '2017-03-13' '2017-03-14' '2017-03-15'\n",
        "'2017-03-16' '2017-03-17' '2017-03-18' '2017-03-19' '2017-03-20'\n",
        "'2017-03-21' '2017-03-22' '2017-03-23' '2017-03-24' '2017-03-25'\n",
        "'2017-03-26' '2017-03-27' '2017-03-28' '2017-03-29' '2017-03-30'\n",
        "'2017-03-31']"
      ]
    },
    {
      "cell_type": "code",
      "execution_count": null,
      "metadata": {
        "id": "vjdUA2yuuZ_U"
      },
      "outputs": [],
      "source": []
    },
    {
      "cell_type": "markdown",
      "metadata": {
        "id": "i4uCLx1muZ_U"
      },
      "source": [
        " 6. **Write a NumPy program to generate six random integers between 10 and 30.**\n",
        "\n",
        "*Expected Output:*\n",
        "    \n",
        "[20 28 27 17 28 29]"
      ]
    },
    {
      "cell_type": "code",
      "execution_count": null,
      "metadata": {
        "id": "DXZgEdZruZ_V"
      },
      "outputs": [],
      "source": []
    },
    {
      "cell_type": "markdown",
      "metadata": {
        "id": "I9-dCLCGuZ_V"
      },
      "source": [
        "7. **Write a NumPy program to create a 5x5 array with random values and find the minimum and maximum values.**\n",
        "\n",
        "*Expected Output*\n",
        "\n",
        "Original Array:\n",
        "    \n",
        "[[ 0.96336355 0.12339131 0.20295196 0.37243578 0.88105252]\n",
        "[ 0.93228246 0.67470158 0.38103235 0.32242645 0.40610231]\n",
        "[ 0.3113495 0.31688 0.79189089 0.08676434 0.60829874]\n",
        "[ 0.30360149 0.94316317 0.98142491 0.77222542 0.51532195]\n",
        "[ 0.97392305 0.16669609 0.81377917 0.2165645 0.00121611]]\n",
        "\n",
        "Minimum and Maximum Values:\n",
        "    \n",
        "0.00121610921757 0.981424910368"
      ]
    },
    {
      "cell_type": "code",
      "execution_count": null,
      "metadata": {
        "id": "IofdLCkWuZ_V"
      },
      "outputs": [],
      "source": []
    },
    {
      "cell_type": "markdown",
      "metadata": {
        "id": "8oIA91kYuZ_W"
      },
      "source": [
        "8. **Write a NumPy program to get the powers of an array values element-wise.**\n",
        "\n",
        "Note: First array elements raised to powers from second array\n",
        "    \n",
        "*Expected Output:*\n",
        "    \n",
        "Original array\n",
        "\n",
        "[0 1 2 3 4 5 6]\n",
        "\n",
        "First array elements raised to powers from second array, element-wise:\n",
        "    \n",
        "[ 0 1 8 27 64 125 216]"
      ]
    },
    {
      "cell_type": "code",
      "execution_count": null,
      "metadata": {
        "id": "UxDhiXaWuZ_W"
      },
      "outputs": [],
      "source": []
    },
    {
      "cell_type": "markdown",
      "metadata": {
        "id": "CKf9OxPAuZ_X"
      },
      "source": [
        "9. **Write a NumPy program to create a structured array from given student name, height, class and their data types. Now sort the array on height.**\n",
        "\n",
        "*Expected Output:*\n",
        "\n",
        "Original array:\n",
        "\n",
        "[(b'James', 5, 48.5 ) (b'Nail', 6, 52.5 ) (b'Paul', 5, 42.1 )\n",
        "(b'Pit', 5, 40.11)]\n",
        "\n",
        "Sort by height\n",
        "\n",
        "[(b'Pit', 5, 40.11) (b'Paul', 5, 42.1 ) (b'James', 5, 48.5 )\n",
        "(b'Nail', 6, 52.5 )]"
      ]
    },
    {
      "cell_type": "code",
      "execution_count": null,
      "metadata": {
        "id": "yY7jjszcuZ_X"
      },
      "outputs": [],
      "source": []
    },
    {
      "cell_type": "markdown",
      "metadata": {
        "id": "mGkdfksZuZ_X"
      },
      "source": [
        "10. **Write a NumPy program to sort the student id with increasing height of the students from given students id and height. Print the integer indices that describes the sort order by multiple columns and the sorted data.**\n",
        "\n",
        "*Expected Output:*\n",
        "\n",
        "Sorted indices\n",
        "\n",
        "[4 0 5 3 6 1 2]\n",
        "\n",
        "Sorted data:\n",
        "\n",
        "1682 38.0\n",
        "1023 40.0\n",
        "5241 40.0\n",
        "1671 41.0\n",
        "4532 42.0\n",
        "5202 42.0\n",
        "6230 45.0"
      ]
    },
    {
      "cell_type": "code",
      "execution_count": null,
      "metadata": {
        "id": "QgThOeavuZ_X"
      },
      "outputs": [],
      "source": []
    }
  ],
  "metadata": {
    "kernelspec": {
      "display_name": "Python 3",
      "language": "python",
      "name": "python3"
    },
    "language_info": {
      "codemirror_mode": {
        "name": "ipython",
        "version": 3
      },
      "file_extension": ".py",
      "mimetype": "text/x-python",
      "name": "python",
      "nbconvert_exporter": "python",
      "pygments_lexer": "ipython3",
      "version": "3.8.3"
    },
    "colab": {
      "provenance": []
    }
  },
  "nbformat": 4,
  "nbformat_minor": 0
}